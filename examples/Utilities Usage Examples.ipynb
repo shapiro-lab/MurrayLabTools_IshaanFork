{
 "cells": [
  {
   "cell_type": "markdown",
   "metadata": {},
   "source": [
    "# Welcome to the Utilities Package\n",
    "\n",
    "This package contains some boilerplate, fairly general-purpose utility code that you might find useful. The package currently can do one thing:\n",
    "\n",
    "* Easily send email or text messages on completion of a code block."
   ]
  },
  {
   "cell_type": "markdown",
   "metadata": {},
   "source": [
    "### Sending notifications\n",
    "\n",
    "WARNING: To use this feature, your code will have to provide login information for an email provider. Be careful with this information -- hard-coding a username and password into a notebook that you might share is a good way to leak private information. You may wish to have your program read username and password information from another source (such as a file or the command line). Even better, you can create a separate email account for automated notifications, so that your program never has access to your \"real\" credentials.\n",
    "\n",
    "(Please don't use the lab email account. If you accidentally release that information, it will be a pain for all of us to deal with.)\n",
    "\n",
    "The Utilities package includes a wrapper for sending automated email alerts when a piece of code is done running. To do this, it will need to log into an email account, for which you must provide a username and password. It will also need to know where you want your alerts sent. This is done with the `set_credentials` and `set_destionation` functions. You only need to run these functions once per script.\n",
    "\n",
    "Setting up an automatic message looks like this:"
   ]
  },
  {
   "cell_type": "code",
   "execution_count": 1,
   "metadata": {},
   "outputs": [
    {
     "name": "stderr",
     "output_type": "stream",
     "text": [
      "/home/sclamons/Downloads/murraylab_tools_local/murraylab_tools/utilities/utilities.py:51: RuntimeWarning: Connection to email server failed. Run will continue without notifications.\n",
      "  warnings.warn(\"Connection to email server failed. \"\\\n"
     ]
    },
    {
     "name": "stdout",
     "output_type": "stream",
     "text": [
      "I'm doing a thing.\n",
      "I'm doing a second thing.\n",
      "I'm done.\n"
     ]
    }
   ],
   "source": [
    "import murraylab_tools.utilities as mt_utils\n",
    "import time\n",
    "\n",
    "mt_utils.set_credentials(\"put_your_username_here\", \"put_your_password_here\")\n",
    "mt_utils.set_destination(\"sclamons@gmail.com\")\n",
    "\n",
    "with mt_utils.notify_when_done(\"A block\"):\n",
    "    print(\"I'm doing a thing.\")\n",
    "    print(\"I'm doing a second thing.\")\n",
    "    time.sleep(3)\n",
    "    print(\"I'm done.\")"
   ]
  },
  {
   "cell_type": "markdown",
   "metadata": {},
   "source": [
    "The login above will fail, since I'm not providing real credentials here, but you can see how the program behaves when a login fails -- it will notify you that it didn't connect, and will keep running. If you want to see more information about how the connection went wrong, you can set that with the debug_connection flag:"
   ]
  },
  {
   "cell_type": "code",
   "execution_count": 2,
   "metadata": {},
   "outputs": [
    {
     "name": "stdout",
     "output_type": "stream",
     "text": [
      "Connection error is:\n",
      "Traceback (most recent call last):\n",
      "  File \"/home/sclamons/Downloads/murraylab_tools_local/murraylab_tools/utilities/utilities.py\", line 49, in __enter__\n",
      "    server = self.connect_to_server()\n",
      "  File \"/home/sclamons/Downloads/murraylab_tools_local/murraylab_tools/utilities/utilities.py\", line 90, in connect_to_server\n",
      "    server.login(_username, _password)\n",
      "  File \"/usr/lib/python3.8/smtplib.py\", line 734, in login\n",
      "    raise last_exception\n",
      "  File \"/usr/lib/python3.8/smtplib.py\", line 723, in login\n",
      "    (code, resp) = self.auth(\n",
      "  File \"/usr/lib/python3.8/smtplib.py\", line 646, in auth\n",
      "    raise SMTPAuthenticationError(code, resp)\n",
      "smtplib.SMTPAuthenticationError: (535, b'5.7.8 Username and Password not accepted. Learn more at\\n5.7.8  https://support.google.com/mail/?p=BadCredentials 128sm1531430pfx.187 - gsmtp')\n",
      "\n",
      "I'm doing a thing.\n",
      "I'm doing a second thing.\n",
      "I'm done.\n"
     ]
    }
   ],
   "source": [
    "with mt_utils.notify_when_done(\"A block\", debug_connection = True):\n",
    "    print(\"I'm doing a thing.\")\n",
    "    print(\"I'm doing a second thing.\")\n",
    "    time.sleep(3)\n",
    "    print(\"I'm done.\")"
   ]
  },
  {
   "cell_type": "markdown",
   "metadata": {
    "collapsed": true
   },
   "source": [
    "By default, the `notify_when_done` class sends notifications to gmail's public smtp server at port 587. If you use another email provider, or if you want to use a different port for some reason, you can change the server and port in the call to `notify_when_done`:"
   ]
  },
  {
   "cell_type": "code",
   "execution_count": 3,
   "metadata": {},
   "outputs": [
    {
     "name": "stdout",
     "output_type": "stream",
     "text": [
      "I'm doing a thing.\n",
      "I'm doing a second thing.\n",
      "I'm done.\n"
     ]
    }
   ],
   "source": [
    "with mt_utils.notify_when_done(\"A block\", server = \"my.email.server\", port = \"777\"):\n",
    "    print(\"I'm doing a thing.\")\n",
    "    print(\"I'm doing a second thing.\")\n",
    "    time.sleep(3)\n",
    "    print(\"I'm done.\")"
   ]
  },
  {
   "cell_type": "markdown",
   "metadata": {},
   "source": [
    "If you'd rather receive a text than an email, you can probably do so by setting your destination correctly. Most phone providers have an email service that will convert emails sent to some address into a text, using the following format:\n",
    "\n",
    "* AT&T: number@txt.att.net (SMS), number@mms.att.net (MMS)\n",
    "* T-Mobile: number@tmomail.net (SMS & MMS)\n",
    "* Verizon: number@vtext.com (SMS), number@vzwpix.com (MMS)\n",
    "* Sprint: number@messaging.sprintpcs.com (SMS), number@pm.sprint.com (MMS)\n",
    "* Republic Wireless: number@text.republicwireless.com (SMS)\n",
    "* Google Fi (Project Fi): number@msg.fi.google.com (SMS & MMS)\n",
    "\n",
    "So, for example, if your phone number is 555-432-1098 and you get your phone service through Republic Wireless, you would set your code to send you a text by running:"
   ]
  },
  {
   "cell_type": "code",
   "execution_count": 4,
   "metadata": {},
   "outputs": [],
   "source": [
    "mt_utils.set_destination(\"5554321098@text.republicwireless.com\")"
   ]
  }
 ],
 "metadata": {
  "kernelspec": {
   "display_name": "Python 3",
   "language": "python",
   "name": "python3"
  },
  "language_info": {
   "codemirror_mode": {
    "name": "ipython",
    "version": 3
   },
   "file_extension": ".py",
   "mimetype": "text/x-python",
   "name": "python",
   "nbconvert_exporter": "python",
   "pygments_lexer": "ipython3",
   "version": "3.8.1"
  }
 },
 "nbformat": 4,
 "nbformat_minor": 2
}
