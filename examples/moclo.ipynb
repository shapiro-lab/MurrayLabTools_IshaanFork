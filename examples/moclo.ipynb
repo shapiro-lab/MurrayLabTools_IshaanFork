{
 "metadata": {
  "language_info": {
   "codemirror_mode": {
    "name": "ipython",
    "version": 3
   },
   "file_extension": ".py",
   "mimetype": "text/x-python",
   "name": "python",
   "nbconvert_exporter": "python",
   "pygments_lexer": "ipython3",
   "version": "3.7.6-final"
  },
  "orig_nbformat": 2,
  "kernelspec": {
   "name": "python3",
   "display_name": "Python 3"
  }
 },
 "nbformat": 4,
 "nbformat_minor": 2,
 "cells": [
  {
   "cell_type": "code",
   "execution_count": null,
   "metadata": {},
   "outputs": [],
   "source": [
    "#Run this first!\n",
    "import os\n",
    "import sys\n",
    "from io import BytesIO\n",
    "import pandas as pd\n",
    "import requests\n",
    "dev = False\n",
    "#\"C:\\\\\",\"Users\",\"Andrey\",\\\n",
    "#                \"Documents\",\"GitHub\",\"murraylab_tools\"\n",
    "import murraylab_tools.make_moclo_assembly as mamo\n",
    "%matplotlib inline\n",
    "andreysGoogleDoc='https://docs.google.com/spreadsheets/d/1x7f_2sfOG6KQ7FZO-TPvJlNcVupKLtD9MYq8YUs9TCI/export'\n",
    "andreydf = pd.read_excel(BytesIO(requests.get(andreysGoogleDoc).content),sheet_name=\"parts_1\")\n",
    "pcrdf = pd.read_excel(BytesIO(requests.get(andreysGoogleDoc).content),sheet_name=\"pcr\")\n",
    "mypath = os.path.join(\"moclo_assembly\")"
   ]
  },
  {
   "cell_type": "code",
   "execution_count": null,
   "metadata": {},
   "outputs": [],
   "source": [
    "#This cell is for creating your assembly!\n",
    "#here you can put together the parts located in your source plate.\n",
    "#interface elements:\n",
    "#Assembly...[]: the name of all the assemblies you're doing!\n",
    "#parts list[]: the name of the parts list to use! This picks from which lists\n",
    "#             exist in the \"partslist\" folder on the server.\n",
    "#[Start]: this begins the assembly, locking in the parts list file we're using\n",
    "#[]list all parts: if checked, all parts will be shown in all columns, as long\n",
    "#                 as the assembly is valid!\n",
    "#Dest Well[]: this indicates the first well in the destination plate to use.\n",
    "#            subsequent assemblies are filled in left to right, top to bottom.\n",
    "#[Save!]: this saves the assembly, and creates a csv file on the server which\n",
    "#         can be used for making echo picklists\n",
    "#\n",
    "#\n",
    "#[vector1]...[vector2]: these drop downs will list compatible parts from the\n",
    "#                       parts list\n",
    "#[enzyme]: this tells the picklist generation script how to assemble the parts\n",
    "#         to make assembled sequences. Also it tells the UI whether UNS parts\n",
    "#         should assemble together.\n",
    "#[name]: a unique name! This is mostly for you, but make sure each assembly has\n",
    "#       one!\n",
    "#[+]: this copies the row and adds it to the bottom.\n",
    "#[-]: one press clears all the parts, another press deletes the row entirely\n",
    "\n",
    "mamo.make_assembly_file(mypath,andreydf)"
   ]
  },
  {
   "cell_type": "code",
   "execution_count": null,
   "metadata": {},
   "outputs": [],
   "source": [
    "#run this cell to make an echo picklist!\n",
    "#you'll get a chance to pick which set of assemblies you want to do, and of\n",
    "#course the parts list to use.\n",
    "featuresGoogleDoc='https://docs.google.com/spreadsheets/d/1Kwy3gXb0uuTFQyboBUsc0bdfIZX4zUp_-8igKqSKTKI/export?format=csv'\n",
    "featuresdf= pd.read_csv(BytesIO(requests.get(featuresGoogleDoc).content))\n",
    "andreysGoogleDoc='https://docs.google.com/spreadsheets/d/1x7f_2sfOG6KQ7FZO-TPvJlNcVupKLtD9MYq8YUs9TCI/export'\n",
    "andreydf = pd.read_excel(BytesIO(requests.get(andreysGoogleDoc).content),sheet_name=\"parts_1\")\n",
    "mamo.process_assembly_file(mypath,printstuff=False,partsdf=andreydf,annotateDF=featuresdf)"
   ]
  },
  {
   "cell_type": "code",
   "execution_count": null,
   "metadata": {},
   "outputs": [],
   "source": []
  }
 ]
}