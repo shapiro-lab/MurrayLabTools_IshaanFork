{
 "cells": [
  {
   "cell_type": "markdown",
   "metadata": {},
   "source": [
    "# Welcome to the Echo package"
   ]
  },
  {
   "cell_type": "markdown",
   "metadata": {},
   "source": [
    "The \"echo\" subpackage of murraylab_tools is designed to automate the setup of reactions with the Echo, with special functionality provided for TX-TL reactions. The EchoRun class can produce picklists for the Echo, as well as instructions for loading a source plate to go with those instructions, when appropriate. \n",
    "\n",
    "There are currently three main modes of operations of the Echo package, distinguished mainly by their inputs:\n",
    "- **TX-TL Setup Spreadsheet**: Takes a pair of CSV spreadsheets saved from a TX-TL setup spreadsheet (version 2.X). Use this for simple TX-TL experiments, or very complex experiments that would be easier to set up in a spreadsheet than programmatically.\n",
    "- **Programmatic Setup**: You can build a reaction programmatically, straight from code. Build objects representing the materials you want to use (including mixtures of things) and add them to wells on a destination plate with:\n",
    "    - **`dilution_series`**: Takes two materials and an array of concentrations for each, and builds a 2D dilution series out of the two. Can also be used to set up 1D dilution series (by setting one of the materials to a dummy material and giving it the concentration list [0]).\n",
    "    - **`add_material_to_well`, `add_material_to_block`, `add_material_to_all`**: Adds a single ingredient at a fixed concentration, volume, or fraction of the final reaction to either a single well, a rectangular block of wells, or all wells that the EchoRun object has used so far, respectively.\n",
    "    - **`fill_well_with`,`fill_all_with`**: Whatever volume is left in either a well or every well the EchoRun object has interacted with so far, respectively, fill with a material.\n",
    "    \n",
    "- **Association Spreadsheet**: Takes one or more spreadsheets describing the contents of an Echo source plate, plus a simple spreadsheet describing final concentrations of the materials of those source plates in each destination. You can use this if you are more comfortable working with spreadsheets than with Python."
   ]
  },
  {
   "cell_type": "markdown",
   "metadata": {},
   "source": [
    "*A word of warning*: The quick start examples will help you jump right into setting up an experiment, but they make a number of assumptions about your experiment. Some things you'll want to check before running your own:\n",
    "- **Reaction Size**: Default is 10 µL.\n",
    "- **Buffer/Extract Fractions**: Defaults are 0.42/0.33 (typical for French Press extracts).\n",
    "- **Buffer/Extract Aliquot Size**: Defaults are 30µL/37µL per aliquot, respectively. \n",
    "- **Master Mix Excess**: For accounting for pipetting loss. Default is 1.1 (10% excess) for `TXTLMasterMix`, and 1 (no excess) for `MixtureMaterial`.\n",
    "- **Source Plate Type**: Default is 384_PP. You probably want this.\n",
    "- **Source Plate Material**: Default is AQ_BP (buffer-like liquids).\n",
    "- **Destination Plate Type**: Default is \"Nunc_384_black_glassbottom\".\n",
    "- **Destination Plate Size**: The Echo package has no knowledge of the destination plate. *There is no check to keep you from defining picks off the edge of the destination plate*. Don't do that.\n",
    "- **Dead Volume/Max Volume**: Default dead volume is 21 µL, including loss to meniscus. Default max volume is 65 µL. \n",
    "\n",
    "**Additionally, be aware** that the TX-TL setup scripts keep track of which source plate wells they've used in a .dat file. If you run those experiments repeatedly, they'll fill up the file and eventually error out when they run out of wells on the plate. You should test your code using a dummy .dat file, then switch to the one you actually want to use and run it again once you're sure your code works.\n",
    "\n",
    "You can read more about how the echo package works in the next section, \"**How it all works**\", or you can skip to the example usage sections below that. For more information on tweaking settings, see **Tweaking Settings** at the end of this notebook."
   ]
  },
  {
   "cell_type": "markdown",
   "metadata": {},
   "source": [
    "See the following notebooks for other Echo setup features:\n",
    "* `Reusable Plate Example`: To re-use materials stored in a fixed position on a source plate.\n",
    "* `echo_dilution_series`: To make 3D (or higher-dimension) dilution series.\n",
    "* `Echo Setup - salt calibration example`: An example of setting up a slightly-more-complex-than-usual TX-TL experiment with a custom master mix."
   ]
  },
  {
   "cell_type": "markdown",
   "metadata": {},
   "source": [
    "# How it all works"
   ]
  },
  {
   "cell_type": "markdown",
   "metadata": {},
   "source": [
    "Every project begins with an `EchoRun` object. This object holds (nearly) all of the information about an experiment, and is ultimately responsible for coordinating plates and materials, and for actually writing picklists and experimental protocols. \n",
    "\n",
    "An `EchoRun` object needs a `SourcePlate` object. This object is responsible for keeping track of which wells have been used, and for assigning new wells on the source plate to materials that you'll want to transfer. It will try to assign wells in a way that keeps the same material in a contiguous block, buffered on either side by an empty well for ease of pipetting. `SourcePlate` objects are also typically associated with a .dat tracking file that lists which wells have been used on the plate. That way, you can use the same source plate over many experiments without having to manually program in which wells are forbidden. The `SourcePlate` object will read this file to learn what it has available to it, and will automatically write back to the same file whenever the EchoRun object controlling it writes a picklist.\n",
    "\n",
    "Materials (DNA, chemicals, water, TX-TL, etc) on a source plate are represented by `EchoSourceMaterial` objects. An `EchoSourceMaterial` has a concentration, which can be of any units you want. For the most part, units are only there for human readability. Special exceptions are made for dsDNAs, which are usually kept in stocks with units of ng/uL and used in units of nM. `EchoSourceMaterial`s representing dsDNAs are created with a \"length\". If an `EchoSourceMaterial` has a \"length\" > 0, then it will assume it was a dsDNA created in units of ng/uL, and will immediately convert its concentration into nM. Anything using that material should use units of nM.\n",
    "\n",
    "To generate an Echo picklist, you will generally need to do three things:\n",
    "- Build an `EchoRun` object. This will take a `SourcePlate` object, which usually just needs to know the location of the used-well file.\n",
    "- Describe the experiment. This means calling one of three things from your `EchoRun` object: \n",
    "    - `build_picklist_from_txtl_setup_csvs`, or\n",
    "    - `load_source_plate` to learn what's on the source plate and `build_picklist_from_association_spreadsheet` to figure out what goes where on the destination plate, or \n",
    "    - Programmatic setup using `dilution_series`, `add_material_to_well`, `fill_well_with`, etc.\n",
    "- Write the picklist, which is done with a call to `write_picklist` from your `EchoRun` object. \n",
    "\n",
    "For more information, see the examples below."
   ]
  },
  {
   "cell_type": "markdown",
   "metadata": {},
   "source": [
    "## TX-TL Setup Spreadsheet"
   ]
  },
  {
   "cell_type": "markdown",
   "metadata": {},
   "source": [
    "### Quick Start Example"
   ]
  },
  {
   "cell_type": "markdown",
   "metadata": {},
   "source": [
    "The following creates an Echo picklist and experimental protocol for a variety of fluorescent protein mixes described in \"inputs/TX-TL_setup_example.xlsx\"."
   ]
  },
  {
   "cell_type": "markdown",
   "metadata": {},
   "source": [
    "![Example TX-TL setup spreadsheet](resources/TX-TL_setup_example_screenshot.png)"
   ]
  },
  {
   "cell_type": "code",
   "execution_count": 4,
   "metadata": {},
   "outputs": [],
   "source": [
    "import murraylab_tools.echo as mt_echo\n",
    "import os.path\n",
    "\n",
    "# Names of input and output files. Check out these files for examples of input file format.\n",
    "txtl_inputs  = os.path.join(\"txtl_setup\", \"inputs\")\n",
    "txtl_outputs = os.path.join(\"txtl_setup\", \"outputs\")\n",
    "stock_file = os.path.join(txtl_inputs, \"TX-TL_setup_example_stocks.csv\") # Source materials\n",
    "recipe_file = os.path.join(txtl_inputs, \"TX-TL_setup_example_recipe.csv\") # Experimental setup \n",
    "plate_file  = os.path.join(txtl_outputs, \"TX-TL_setup_example_plate.dat\")  # Keeps track of wells used \n",
    "output_name = os.path.join(txtl_outputs, \"TX-TL_setup_example\") # Output (both a picklist and a\n",
    "                                                                # small protocol for building the\n",
    "                                                                # source plate)\n",
    "\n",
    "# Build an EchoRun object\n",
    "txtl_plate = mt_echo.SourcePlate(filename = plate_file)\n",
    "txtl_echo_calculator = mt_echo.EchoRun(plate = txtl_plate)"
   ]
  },
  {
   "cell_type": "code",
   "execution_count": 5,
   "metadata": {},
   "outputs": [
    {
     "data": {
      "text/plain": [
       "{}"
      ]
     },
     "execution_count": 5,
     "metadata": {},
     "output_type": "execute_result"
    }
   ],
   "source": [
    "txtl_echo_calculator.plates[0].materials"
   ]
  },
  {
   "cell_type": "code",
   "execution_count": 1,
   "metadata": {
    "collapsed": false,
    "scrolled": false,
    "tags": []
   },
   "outputs": [],
   "source": [
    "import murraylab_tools.echo as mt_echo\n",
    "import os.path\n",
    "\n",
    "# Names of input and output files. Check out these files for examples of input file format.\n",
    "txtl_inputs  = os.path.join(\"txtl_setup\", \"inputs\")\n",
    "txtl_outputs = os.path.join(\"txtl_setup\", \"outputs\")\n",
    "stock_file = os.path.join(txtl_inputs, \"TX-TL_setup_example_stocks.csv\") # Source materials\n",
    "recipe_file = os.path.join(txtl_inputs, \"TX-TL_setup_example_recipe.csv\") # Experimental setup \n",
    "plate_file  = os.path.join(txtl_outputs, \"TX-TL_setup_example_plate.dat\")  # Keeps track of wells used \n",
    "output_name = os.path.join(txtl_outputs, \"TX-TL_setup_example\") # Output (both a picklist and a\n",
    "                                                                # small protocol for building the\n",
    "                                                                # source plate)\n",
    "\n",
    "# Build an EchoRun object\n",
    "txtl_plate = mt_echo.SourcePlate(filename = plate_file)\n",
    "txtl_echo_calculator = mt_echo.EchoRun(plate = txtl_plate)\n",
    "\n",
    "# Describe the experiment\n",
    "txtl_echo_calculator.build_picklist_from_txtl_setup_csvs(stock_file, recipe_file)\n",
    "# Write results\n",
    "txtl_echo_calculator.write_picklist(output_name)"
   ]
  },
  {
   "cell_type": "markdown",
   "metadata": {},
   "source": [
    " ### More Information"
   ]
  },
  {
   "cell_type": "code",
   "execution_count": 2,
   "metadata": {},
   "outputs": [],
   "source": [
    "output_name = os.path.join(txtl_outputs, \"TX-TL_setup_example\")\n"
   ]
  },
  {
   "cell_type": "markdown",
   "metadata": {},
   "source": [
    "The `build_picklist_from_txtl_setup_csvs` function is used for creating a picklist from a TX-TL setup spreadsheet (spreadsheet version 2.0 or later -- spreadsheets from before late 2016 will not work). You will need to feed it the names of two CSV files produced from the \"recipe\" sheet (the first sheet, containing explicit pipetting directions) and the \"stocks\" sheet (the second sheet, which details the concentrations of most of the materials used in the experiment). The \"Layout\" sheet is ignored. The standard workflow looks like:\n",
    "\n",
    "* Edit your TX-TL setup Excel document (modifying the \"Stocks\" sheet and the \"Layout\" sheet, and the few cells shaded purple in the \"Recipe\" sheet).\n",
    "* Save the \"Recipe\" and \"Stocks\" sheets from the xls/xlsx file as CSVs.\n",
    "* Run `build_picklist_from_txtl_setup_csvs`, passing it the names of the two CSVs you just saved.\n",
    "\n",
    "Reaction size and master mix excess ratio are read from the recipe spreadsheet. You probably should not mess with those settings \n",
    "\n",
    "Note that you *must* give each reaction a plate location, i.e. \"D4\" or \"E07\". In the Excel spreadsheet. Plate locations can be added in the \"Layout\" tab, and will be automatically propagated to the \"Recipe\" tab. "
   ]
  },
  {
   "cell_type": "markdown",
   "metadata": {},
   "source": [
    "## Programmatic construction of TX-TL Reactions"
   ]
  },
  {
   "cell_type": "markdown",
   "metadata": {},
   "source": [
    "#### Quick Start Example"
   ]
  },
  {
   "cell_type": "markdown",
   "metadata": {},
   "source": [
    "The following creates an Echo picklist and simple experimental protcol for a two-way dilution series of a reporter plasmid and inducer, with or without a second inducer. This code will add four things to the destination plate:\n",
    "1. Two 2-dimensional dilution series of GFP plasmid on one axis and aTc on the other axis.\n",
    "2. TX-TL master mix into every well.\n",
    "3. Water to fill up remaining space in every well.\n",
    "4. IPTG in one of the dilution series blocks, and in two negative control wells (one at 0 concentration).\n",
    "\n",
    "You'll usually end up adding some variation of 1 (experimental conditions), 2 (a master mix), and 3 (a buffer to fill)."
   ]
  },
  {
   "cell_type": "code",
   "execution_count": 2,
   "metadata": {
    "collapsed": false,
    "scrolled": true
   },
   "outputs": [
    {
     "name": "stderr",
     "output_type": "stream",
     "text": [
      "c:\\Users\\ajayg\\miniconda3\\envs\\echo_sandbox\\lib\\site-packages\\murraylab_tools\\echo\\echo_functions.py:184: UserWarning: Requesting 0 volume from material GFP Plasmid into well A1; are you sure you want to do this?\n",
      "  warnings.warn(f\"Requesting 0 volume from material {self.name}\"\n",
      "c:\\Users\\ajayg\\miniconda3\\envs\\echo_sandbox\\lib\\site-packages\\murraylab_tools\\echo\\echo_functions.py:184: UserWarning: Requesting 0 volume from material ATc into well A1; are you sure you want to do this?\n",
      "  warnings.warn(f\"Requesting 0 volume from material {self.name}\"\n",
      "c:\\Users\\ajayg\\miniconda3\\envs\\echo_sandbox\\lib\\site-packages\\murraylab_tools\\echo\\echo_functions.py:184: UserWarning: Requesting 0 volume from material GFP Plasmid into well A2; are you sure you want to do this?\n",
      "  warnings.warn(f\"Requesting 0 volume from material {self.name}\"\n",
      "c:\\Users\\ajayg\\miniconda3\\envs\\echo_sandbox\\lib\\site-packages\\murraylab_tools\\echo\\echo_functions.py:184: UserWarning: Requesting 0 volume from material GFP Plasmid into well A3; are you sure you want to do this?\n",
      "  warnings.warn(f\"Requesting 0 volume from material {self.name}\"\n",
      "c:\\Users\\ajayg\\miniconda3\\envs\\echo_sandbox\\lib\\site-packages\\murraylab_tools\\echo\\echo_functions.py:184: UserWarning: Requesting 0 volume from material GFP Plasmid into well A4; are you sure you want to do this?\n",
      "  warnings.warn(f\"Requesting 0 volume from material {self.name}\"\n",
      "c:\\Users\\ajayg\\miniconda3\\envs\\echo_sandbox\\lib\\site-packages\\murraylab_tools\\echo\\echo_functions.py:184: UserWarning: Requesting 0 volume from material GFP Plasmid into well A5; are you sure you want to do this?\n",
      "  warnings.warn(f\"Requesting 0 volume from material {self.name}\"\n",
      "c:\\Users\\ajayg\\miniconda3\\envs\\echo_sandbox\\lib\\site-packages\\murraylab_tools\\echo\\echo_functions.py:184: UserWarning: Requesting 0 volume from material ATc into well B1; are you sure you want to do this?\n",
      "  warnings.warn(f\"Requesting 0 volume from material {self.name}\"\n",
      "c:\\Users\\ajayg\\miniconda3\\envs\\echo_sandbox\\lib\\site-packages\\murraylab_tools\\echo\\echo_functions.py:184: UserWarning: Requesting 0 volume from material ATc into well C1; are you sure you want to do this?\n",
      "  warnings.warn(f\"Requesting 0 volume from material {self.name}\"\n",
      "c:\\Users\\ajayg\\miniconda3\\envs\\echo_sandbox\\lib\\site-packages\\murraylab_tools\\echo\\echo_functions.py:184: UserWarning: Requesting 0 volume from material ATc into well D1; are you sure you want to do this?\n",
      "  warnings.warn(f\"Requesting 0 volume from material {self.name}\"\n",
      "c:\\Users\\ajayg\\miniconda3\\envs\\echo_sandbox\\lib\\site-packages\\murraylab_tools\\echo\\echo_functions.py:184: UserWarning: Requesting 0 volume from material ATc into well E1; are you sure you want to do this?\n",
      "  warnings.warn(f\"Requesting 0 volume from material {self.name}\"\n",
      "c:\\Users\\ajayg\\miniconda3\\envs\\echo_sandbox\\lib\\site-packages\\murraylab_tools\\echo\\echo_functions.py:184: UserWarning: Requesting 0 volume from material ATc into well F1; are you sure you want to do this?\n",
      "  warnings.warn(f\"Requesting 0 volume from material {self.name}\"\n",
      "c:\\Users\\ajayg\\miniconda3\\envs\\echo_sandbox\\lib\\site-packages\\murraylab_tools\\echo\\echo_functions.py:184: UserWarning: Requesting 0 volume from material GFP Plasmid into well A7; are you sure you want to do this?\n",
      "  warnings.warn(f\"Requesting 0 volume from material {self.name}\"\n",
      "c:\\Users\\ajayg\\miniconda3\\envs\\echo_sandbox\\lib\\site-packages\\murraylab_tools\\echo\\echo_functions.py:184: UserWarning: Requesting 0 volume from material ATc into well A7; are you sure you want to do this?\n",
      "  warnings.warn(f\"Requesting 0 volume from material {self.name}\"\n",
      "c:\\Users\\ajayg\\miniconda3\\envs\\echo_sandbox\\lib\\site-packages\\murraylab_tools\\echo\\echo_functions.py:184: UserWarning: Requesting 0 volume from material GFP Plasmid into well A8; are you sure you want to do this?\n",
      "  warnings.warn(f\"Requesting 0 volume from material {self.name}\"\n",
      "c:\\Users\\ajayg\\miniconda3\\envs\\echo_sandbox\\lib\\site-packages\\murraylab_tools\\echo\\echo_functions.py:184: UserWarning: Requesting 0 volume from material GFP Plasmid into well A9; are you sure you want to do this?\n",
      "  warnings.warn(f\"Requesting 0 volume from material {self.name}\"\n",
      "c:\\Users\\ajayg\\miniconda3\\envs\\echo_sandbox\\lib\\site-packages\\murraylab_tools\\echo\\echo_functions.py:184: UserWarning: Requesting 0 volume from material GFP Plasmid into well A10; are you sure you want to do this?\n",
      "  warnings.warn(f\"Requesting 0 volume from material {self.name}\"\n",
      "c:\\Users\\ajayg\\miniconda3\\envs\\echo_sandbox\\lib\\site-packages\\murraylab_tools\\echo\\echo_functions.py:184: UserWarning: Requesting 0 volume from material GFP Plasmid into well A11; are you sure you want to do this?\n",
      "  warnings.warn(f\"Requesting 0 volume from material {self.name}\"\n",
      "c:\\Users\\ajayg\\miniconda3\\envs\\echo_sandbox\\lib\\site-packages\\murraylab_tools\\echo\\echo_functions.py:184: UserWarning: Requesting 0 volume from material ATc into well B7; are you sure you want to do this?\n",
      "  warnings.warn(f\"Requesting 0 volume from material {self.name}\"\n",
      "c:\\Users\\ajayg\\miniconda3\\envs\\echo_sandbox\\lib\\site-packages\\murraylab_tools\\echo\\echo_functions.py:184: UserWarning: Requesting 0 volume from material ATc into well C7; are you sure you want to do this?\n",
      "  warnings.warn(f\"Requesting 0 volume from material {self.name}\"\n",
      "c:\\Users\\ajayg\\miniconda3\\envs\\echo_sandbox\\lib\\site-packages\\murraylab_tools\\echo\\echo_functions.py:184: UserWarning: Requesting 0 volume from material ATc into well D7; are you sure you want to do this?\n",
      "  warnings.warn(f\"Requesting 0 volume from material {self.name}\"\n",
      "c:\\Users\\ajayg\\miniconda3\\envs\\echo_sandbox\\lib\\site-packages\\murraylab_tools\\echo\\echo_functions.py:184: UserWarning: Requesting 0 volume from material ATc into well E7; are you sure you want to do this?\n",
      "  warnings.warn(f\"Requesting 0 volume from material {self.name}\"\n",
      "c:\\Users\\ajayg\\miniconda3\\envs\\echo_sandbox\\lib\\site-packages\\murraylab_tools\\echo\\echo_functions.py:184: UserWarning: Requesting 0 volume from material ATc into well F7; are you sure you want to do this?\n",
      "  warnings.warn(f\"Requesting 0 volume from material {self.name}\"\n",
      "c:\\Users\\ajayg\\miniconda3\\envs\\echo_sandbox\\lib\\site-packages\\murraylab_tools\\echo\\echo_functions.py:184: UserWarning: Requesting 0 volume from material IPTG into well G1; are you sure you want to do this?\n",
      "  warnings.warn(f\"Requesting 0 volume from material {self.name}\"\n"
     ]
    }
   ],
   "source": [
    "import murraylab_tools.echo as mt_echo\n",
    "import os.path\n",
    "\n",
    "# Relevant input and output files. Check these out for examples of input file format.\n",
    "dilution_inputs  = os.path.join(\"2D_dilution_series\", \"inputs\")\n",
    "dilution_outputs = os.path.join(\"2D_dilution_series\", \"outputs\")\n",
    "plate_file  = os.path.join(dilution_outputs, \"dilution_setup_example_plate.dat\") # Keeps track of wells used\n",
    "output_name = os.path.join(dilution_outputs, \"dilution_setup_example\") # Output (both a picklist and a\n",
    "                                                               # small protocol for building the\n",
    "                                                               # source plate)\n",
    "\n",
    "# Build an EchoRun object\n",
    "dilution_plate = mt_echo.SourcePlate(filename = plate_file)\n",
    "dilution_echo_calculator = mt_echo.EchoRun(plate = dilution_plate)\n",
    "\n",
    "# Set final concentrations of two materials\n",
    "gfp_final_concentrations = range(0,6,1) # in nM\n",
    "atc_final_concentrations = range(0,100,20) # in ng/uL\n",
    "\n",
    "# Define reporter plasmid material\n",
    "gfp_conc = 294  # Concentration in ng/uL\n",
    "gfp_len  = 3202 # Size of DNA in bp\n",
    "gfp = mt_echo.EchoSourceMaterial('GFP Plasmid', gfp_conc, gfp_len)\n",
    "\n",
    "# Define inducer material\n",
    "atc_conc = 1000 # Concentration in ng/uL (important that this matches the units of the final concentrations)\n",
    "atc = mt_echo.EchoSourceMaterial(\"ATc\", atc_conc)\n",
    "\n",
    "# Define a second inducer material\n",
    "iptg_conc = 500 # Concentration, this time in mM. Again, this must match any other units used for IPTG.\n",
    "iptg = mt_echo.EchoSourceMaterial(\"IPTG\", iptg_conc)\n",
    "\n",
    "# Lay out the two dilution series\n",
    "dilution_echo_calculator.dilution_series(gfp, atc, gfp_final_concentrations,\n",
    "                                         atc_final_concentrations, \"A1\")\n",
    "dilution_echo_calculator.dilution_series(gfp, atc, gfp_final_concentrations,\n",
    "                                         atc_final_concentrations, \"A7\")\n",
    "\n",
    "# Add the second inducer to the second dilution series.\n",
    "iptg_final_conc = 5\n",
    "dilution_echo_calculator.add_material_to_block(iptg, \"A7\", \"F11\", iptg_final_conc)\n",
    "\n",
    "# Negative control wells.\n",
    "dilution_echo_calculator.add_material_to_well(iptg, \"G1\", 0)\n",
    "dilution_echo_calculator.add_material_to_well(iptg, \"G7\", iptg_final_conc)\n",
    "\n",
    "# Add master mix\n",
    "master_mix = mt_echo.TXTLMasterMix()\n",
    "dilution_echo_calculator.add_material_to_all(master_mix) # Don't give mixtures a concentration.\n",
    "                                                         # They'll figure it out.\n",
    "\n",
    "# Fill empty space with water\n",
    "water = mt_echo.EchoSourceMaterial(\"water\", 1)\n",
    "dilution_echo_calculator.fill_all_wells_with(water)\n",
    "\n",
    "# Write results\n",
    "dilution_echo_calculator.write_picklist(output_name)"
   ]
  },
  {
   "cell_type": "markdown",
   "metadata": {},
   "source": [
    "Note the warnings -- a lot of mistakes you might make will cause you to pipette 0 nL at a time, so the code will warn you if you do so. In this case, those 0 volume pipetting steps are normal -- you just added a material at 0 concentration. Similar warnings will appear if you under-fill a reaction."
   ]
  },
  {
   "cell_type": "markdown",
   "metadata": {},
   "source": [
    "The final `write_picklist` command produces two files -- an Echo picklist, and a plaintext experiment file giving brief instructions for loading the source plate."
   ]
  },
  {
   "cell_type": "markdown",
   "metadata": {},
   "source": [
    "The Echo picklist (2D_dilution_series/outputs/dilution_setup_example_EchoInput.csv; the rest of the dilution series examples output to the same folder):"
   ]
  },
  {
   "cell_type": "markdown",
   "metadata": {},
   "source": [
    "![Example Echo picklist](resources/echo_picklist_screenshot.png)"
   ]
  },
  {
   "cell_type": "markdown",
   "metadata": {},
   "source": [
    "The plaintext experiment file (2D_dilution_series/outputs/dilution_setup_example_experiment_overview.csv):"
   ]
  },
  {
   "cell_type": "markdown",
   "metadata": {},
   "source": [
    "![Experiment file](resources/echo_experiment_file_screenshot.png)"
   ]
  },
  {
   "cell_type": "markdown",
   "metadata": {},
   "source": [
    "#### Adding components individually"
   ]
  },
  {
   "cell_type": "markdown",
   "metadata": {},
   "source": [
    "You can also manually add a single material to a well (`add_material_to_well`) or a rectangular block of wells (`add_material_to_block`) by specifying the material (an EchoSourceMaterial object), a final concentration, and a location. For example, if we set up a dilution series using the variables above..."
   ]
  },
  {
   "cell_type": "code",
   "execution_count": 60,
   "metadata": {
    "collapsed": false,
    "pixiedust": {
     "displayParams": {}
    }
   },
   "outputs": [],
   "source": [
    "# Build an EchoRun object\n",
    "dilution_plate = mt_echo.SourcePlate(filename = plate_file)\n",
    "# default_master_mix = mt_echo.MasterMix(plate = dilution_plate)\n",
    "dilution_echo_calculator = mt_echo.EchoRun(plate = dilution_plate)\n",
    "\n",
    "# Define materials\n",
    "# Note: Don't try to re-use an existing EchoSourceMaterial object if that object has been\n",
    "#       used already in an EchoRun object that has had its write_picklist function called,\n",
    "#       or you will get errors\n",
    "gfp = mt_echo.EchoSourceMaterial('GFP Plasmid', gfp_conc, gfp_len)\n",
    "atc = mt_echo.EchoSourceMaterial(\"ATc\", atc_conc)\n",
    "\n",
    "# # Plan out a dilution series\n",
    "starting_well = \"D2\"\n",
    "dilution_echo_calculator.dilution_series(gfp, atc, gfp_final_concentrations,\n",
    "                                               atc_final_concentrations, starting_well)"
   ]
  },
  {
   "cell_type": "markdown",
   "metadata": {},
   "source": [
    "...then we can add, say, bananas, to a 2x2 square in the top-left corner of the reaction."
   ]
  },
  {
   "cell_type": "code",
   "execution_count": 61,
   "metadata": {
    "collapsed": false
   },
   "outputs": [],
   "source": [
    "# Bananas at 100 nM\n",
    "bananas = mt_echo.EchoSourceMaterial('Cavendish', 100)\n",
    "dilution_echo_calculator.add_material_to_block(bananas, 'D2', 'E3', 1)"
   ]
  },
  {
   "cell_type": "markdown",
   "metadata": {},
   "source": [
    "You can also add to a single well, if you really need to."
   ]
  },
  {
   "cell_type": "code",
   "execution_count": 62,
   "metadata": {
    "collapsed": false
   },
   "outputs": [],
   "source": [
    "old_bananas = mt_echo.EchoSourceMaterial('Gros Michel', 100)\n",
    "dilution_echo_calculator.add_material_to_well(old_bananas, 'F5', 3)"
   ]
  },
  {
   "cell_type": "markdown",
   "metadata": {},
   "source": [
    "If you want something to be in the final reaction but want to add it to your destination plate by hand instead of having the echo pipette it (e.g., you might not want to echo the TX-TL master mix), you can set this in the `add_material_to_block` or `add_material_to_well` functions. If you set this flag, directions to add this material manually will be added to the experiment overview file. "
   ]
  },
  {
   "cell_type": "code",
   "execution_count": 63,
   "metadata": {
    "collapsed": false
   },
   "outputs": [],
   "source": [
    "viscous_bananas = mt_echo.EchoSourceMaterial('Viscous', 100)\n",
    "dilution_echo_calculator.add_material_to_well(viscous_bananas,\"E4\", 5, pipette_by_hand = True)\n",
    "dilution_echo_calculator.write_picklist(output_name + \"_banana_case\")"
   ]
  },
  {
   "cell_type": "markdown",
   "metadata": {},
   "source": [
    "Notice the warnings about underfilled reactions -- this is because we're only adding a little bit of stuff to the mix, and haven't added water or any other bulk solvent. You can fill up the remainder of a well with `EchoRun.fill_well_with` or `EchoRun.fill_all_wells_with`:"
   ]
  },
  {
   "cell_type": "code",
   "execution_count": 64,
   "metadata": {
    "collapsed": false
   },
   "outputs": [],
   "source": [
    "dilution_plate = mt_echo.SourcePlate(filename = plate_file)\n",
    "dilution_echo_calculator = mt_echo.EchoRun(plate = dilution_plate)\n",
    "\n",
    "gfp = mt_echo.EchoSourceMaterial('GFP Plasmid', gfp_conc, gfp_len)\n",
    "atc = mt_echo.EchoSourceMaterial(\"ATc\", atc_conc,)\n",
    "\n",
    "# Bananas at 100 nM\n",
    "bananas = mt_echo.EchoSourceMaterial('Cavendish', 100)\n",
    "dilution_echo_calculator.add_material_to_block(bananas, 'D2', 'E3', 1)\n",
    "\n",
    "old_bananas = mt_echo.EchoSourceMaterial('Gros Michel', 100)\n",
    "dilution_echo_calculator.add_material_to_well(old_bananas, 'F5', 3)\n",
    "\n",
    "viscous_bananas = mt_echo.EchoSourceMaterial('Viscous', 100)\n",
    "dilution_echo_calculator.add_material_to_well(viscous_bananas, \"E4\", 5, pipette_by_hand = True)\n",
    "\n",
    "\n",
    "# Here's where we fill with ingredients.\n",
    "water = mt_echo.EchoSourceMaterial('Water', 1)\n",
    "saltwater = mt_echo.EchoSourceMaterial('Salt Water', 1)\n",
    "\n",
    "dilution_echo_calculator.fill_well_with(water, \"D2\")\n",
    "dilution_echo_calculator.fill_all_wells_with(saltwater)\n",
    "\n",
    "# All reactions are filled! No warnings!\n",
    "dilution_echo_calculator.write_picklist(output_name + \"_fill_case\")"
   ]
  },
  {
   "cell_type": "markdown",
   "metadata": {},
   "source": [
    "#### Master Mixes "
   ]
  },
  {
   "cell_type": "markdown",
   "metadata": {},
   "source": [
    "There are a couple of different kind of \"master mix\" objects:\n",
    "* `MixtureMaterial`: This represents a generic mix of liquids that will be used as a source material. \n",
    "* `TXTLMasterMix`: A subclass of `MixtureMaterial` that's specialized for TX-TL reactions. `TXTLMasterMix` objects come with built-in extract and buffer components, and have a variety of settings for tweaking the TX-TL part of an experiment."
   ]
  },
  {
   "cell_type": "markdown",
   "metadata": {},
   "source": [
    "Here's an example use of a master mix as you might use for PCR:"
   ]
  },
  {
   "cell_type": "code",
   "execution_count": 65,
   "metadata": {
    "collapsed": false
   },
   "outputs": [],
   "source": [
    "# File locations\n",
    "pcr_folder = \"PCR\"\n",
    "plate_file = os.path.join(pcr_folder, \"PCR_plate.dat\")\n",
    "output_name = os.path.join(pcr_folder, \"output\", \"PCR_experiment\")\n",
    "\n",
    "# EchoRun setup\n",
    "source_plate = mt_echo.SourcePlate(plate_file)\n",
    "pcr_echo_calculator = mt_echo.EchoRun(rxn_vol = 50000)\n",
    "\n",
    "# Define materials\n",
    "q5       = mt_echo.EchoSourceMaterial(\"NEB Q5 HS 2x MM\", 2, units = \"x\")\n",
    "f_primer = mt_echo.EchoSourceMaterial(\"SC189\", 10, units = \"uM\")\n",
    "r_primer = mt_echo.EchoSourceMaterial(\"SC190\", 10, units = \"uM\")\n",
    "water    = mt_echo.EchoSourceMaterial(\"water\", 1, units = \"x\")\n",
    "t1       = mt_echo.EchoSourceMaterial(\"Template 1\", 110, length = 1856)\n",
    "t2       = mt_echo.EchoSourceMaterial(\"Template 2\", 205, length = 1856)\n",
    "t3       = mt_echo.EchoSourceMaterial(\"Template 3\", 89, length = 2010)\n",
    "t4       = mt_echo.EchoSourceMaterial(\"Template 4\", 100, length = 2010)\n",
    "t5       = mt_echo.EchoSourceMaterial(\"Template 5\", 25, length = 154)\n",
    "templates = [t1, t2, t3, t4, t5]\n",
    "\n",
    "# Make the master mix\n",
    "master_mix = mt_echo.MixtureMaterial(\"Master Mix\", rxn_vol = 50000, recipe_excess = 1.1)\n",
    "master_mix.add_material(q5, 1, dimensionality = \"final_concentration\")\n",
    "master_mix.add_material(f_primer, 0.5, dimensionality = \"final_concentration\")\n",
    "master_mix.add_material(r_primer, 0.5, dimensionality = \"final_concentration\")\n",
    "master_mix.add_material(water, 19.0/50.0, dimensionality = \"final_concentration\")\n",
    "\n",
    "# Add materials to the plate\n",
    "for i in range(len(templates)):\n",
    "    template = templates[i]\n",
    "    well = \"A\" + str(i+1)\n",
    "    pcr_echo_calculator.add_material_to_well(template, well, 1)\n",
    "pcr_echo_calculator.add_material_to_all(master_mix, 49.0/50.0)\n",
    "pcr_echo_calculator.fill_all_wells_with(water)\n",
    "\n"
   ]
  },
  {
   "cell_type": "code",
   "execution_count": 66,
   "metadata": {
    "tags": []
   },
   "outputs": [],
   "source": [
    "pcr_echo_calculator.write_picklist(output_name)"
   ]
  },
  {
   "cell_type": "markdown",
   "metadata": {},
   "source": [
    "You can find more information about how to use `Mixture` and `TXTLMasterMix` in the **Tweaking Settings** section below."
   ]
  },
  {
   "cell_type": "markdown",
   "metadata": {},
   "source": [
    "## Association Spreadsheet"
   ]
  },
  {
   "cell_type": "markdown",
   "metadata": {},
   "source": [
    "### Quick Start Example"
   ]
  },
  {
   "cell_type": "markdown",
   "metadata": {},
   "source": [
    "The following creates an Echo picklist for an automated PCR setup with three sets of primers to be applied individually to three different plasmids, as defined in a pair of CSV files (one defining the source plate, one describing what should go in the destination plates). "
   ]
  },
  {
   "cell_type": "markdown",
   "metadata": {},
   "source": [
    "The source plate definition file (association_list/inputs/association_source_sheet.csv):"
   ]
  },
  {
   "cell_type": "markdown",
   "metadata": {},
   "source": [
    "![Source plate definition CSV](resources/source_csv_screenshot.png)"
   ]
  },
  {
   "cell_type": "markdown",
   "metadata": {},
   "source": [
    "The destionation file (association_list/inputs/association_destination_sheet.csv):"
   ]
  },
  {
   "cell_type": "markdown",
   "metadata": {},
   "source": [
    "![Destination file CSV](resources/destination_CSV_screenshot.png)"
   ]
  },
  {
   "cell_type": "code",
   "execution_count": 1,
   "metadata": {
    "collapsed": false,
    "scrolled": false,
    "tags": []
   },
   "outputs": [],
   "source": [
    "import murraylab_tools.echo as mt_echo\n",
    "import os.path\n",
    "\n",
    "# Relevant input and output files. Check these out for examples of input file format.\n",
    "assoc_inputs  = os.path.join(\"association_list\", \"inputs\")\n",
    "assoc_outputs = os.path.join(\"association_list\", \"outputs\") \n",
    "stock_file = os.path.join(assoc_inputs, 'association_source_sheet.csv')\n",
    "assoc_file = os.path.join(assoc_inputs, 'association_final_sheet.csv')\n",
    "assoc_name = os.path.join(assoc_outputs, 'association_example')\n",
    "\n",
    "# Build an EchoRun object\n",
    "assoc_echo_calculator = mt_echo.EchoRun(plate_log_folder = os.path.join(assoc_outputs,\"source[1].txt\"))\n",
    "assoc_echo_calculator.rxn_vol = 50000 # PCR is large-volume!\n",
    "\n",
    "# Define which column of the source file is what\n",
    "name_col  = 'B'\n",
    "conc_col  = 'C'\n",
    "len_col   = 'D'\n",
    "well_col  = 'A'\n",
    "plate_col = 'E'\n",
    "\n",
    "# Define the source plate based on the stock file.\n",
    "assoc_echo_calculator.load_source_plate(stock_file, name_col, conc_col,\n",
    "                                        len_col, well_col, plate_col)\n",
    "\n",
    "# Build a protocol, based on the association file.\n",
    "assoc_echo_calculator.build_picklist_from_association_spreadsheet(assoc_file,\n",
    "                                                                  well_col,\n",
    "                                                                  fill_with_water = True,\n",
    "                                                                  water_name = \"water\")\n",
    "\n",
    "# Write the picklist\n",
    "assoc_echo_calculator.write_picklist(assoc_name)"
   ]
  },
  {
   "cell_type": "code",
   "execution_count": 6,
   "metadata": {},
   "outputs": [],
   "source": [
    "import murraylab_tools.echo as mt_echo\n",
    "import os.path\n",
    "\n",
    "# Relevant input and output files. Check these out for examples of input file format.\n",
    "assoc_inputs  = os.path.join(\"association_list\", \"inputs\")\n",
    "assoc_outputs = os.path.join(\"association_list\", \"outputs\") \n",
    "stock_file = os.path.join(assoc_inputs, 'association_source_sheet.csv')\n",
    "assoc_file = os.path.join(assoc_inputs, 'association_final_sheet.csv')\n",
    "assoc_name = os.path.join(assoc_outputs, 'association_example')"
   ]
  },
  {
   "cell_type": "code",
   "execution_count": 7,
   "metadata": {},
   "outputs": [],
   "source": [
    "# Build an EchoRun object\n",
    "assoc_echo_calculator = mt_echo.EchoRun(plate_log_folder = os.path.join(assoc_outputs,\"source[1].txt\"))\n",
    "assoc_echo_calculator.rxn_vol = 50000 # PCR is large-volume! we might need to set a reaction volume. "
   ]
  },
  {
   "cell_type": "code",
   "execution_count": 16,
   "metadata": {},
   "outputs": [],
   "source": [
    "# Define which column of the source file is what\n",
    "name_col  = 'B'\n",
    "conc_col  = 'C'\n",
    "len_col   = 'D'\n",
    "well_col  = 'A'\n",
    "units_col = 'E'"
   ]
  },
  {
   "cell_type": "code",
   "execution_count": 17,
   "metadata": {},
   "outputs": [],
   "source": [
    "# Define the source plate based on the stock file.\n",
    "assoc_echo_calculator.load_source_plate(stock_file, name_col, conc_col,\n",
    "                                        len_col, well_col, units_col)"
   ]
  },
  {
   "cell_type": "code",
   "execution_count": 24,
   "metadata": {},
   "outputs": [],
   "source": [
    "assoc_echo_calculator.fill_material"
   ]
  },
  {
   "cell_type": "code",
   "execution_count": 25,
   "metadata": {},
   "outputs": [],
   "source": [
    "# Build a protocol, based on the association file.\n",
    "assoc_echo_calculator.build_picklist_from_association_spreadsheet(assoc_file,\n",
    "                                                                  well_col,\n",
    "                                                                  fill_with_water = True,\n",
    "                                                                  water_name = \"water\")"
   ]
  },
  {
   "cell_type": "code",
   "execution_count": 30,
   "metadata": {},
   "outputs": [],
   "source": [
    "\n",
    "# Write the picklist\n",
    "assoc_echo_calculator.write_picklist(assoc_name)"
   ]
  },
  {
   "cell_type": "code",
   "execution_count": null,
   "metadata": {},
   "outputs": [],
   "source": []
  },
  {
   "cell_type": "markdown",
   "metadata": {},
   "source": [
    "### More Information"
   ]
  },
  {
   "cell_type": "markdown",
   "metadata": {},
   "source": [
    "The `build_picklist_from_association_spreadsheet` function is used for arbitrary mappings of source plate wells to destination wells, using 1) a spreadsheet describing the contents of each source plate, and 2) a second spreadsheet describing what materials should be put in what wells, and at what concentration. You must always set up a source plate first. This should be done by calling `load_source_plate` with the name of the source plate spreadsheet and information about its organization. Alternatively, you could build your own manually. That is not recommended. \n",
    "\n",
    "The first 'source' spreadsheet (describing the source plate) is a CSV-format spreadsheet with, at minimum, columns with the following information. You can add any number of additional columns to the source plate spreadsheet, which will be ignored by this function. This is the spreadsheet read in with the `load_source_plate` command.\n",
    "* Location: This is the well number of the material, i.e. \"C4\" or \"E08\". If the same material is found in multiple wells, it will need one row for each well.\n",
    "* Name: Brief string describing the material. This name will be used in the recipe output of EchoRun. It can be any string, but be aware that the names \"water\" and \"txtl_mm\" are reserved for describing water and TX-TL master mix, respectively. For this function, that won't matter, but if you try to combine other setup commands with this one, you should avoid using \"water\" and \"txtl_mm\" as material names. \n",
    "* Concentration: If the material is dsDNA, this should be the concentration of the DNA in ng/µL. Otherwise, it should be the concentration of the material in whatever units you want.\n",
    "* Length: If the material is dsDNA, this should be the number of base pairs in the DNA. Otherwise, length should be 0. This is important for correct unit usage.\n",
    "* Units: Describes the units you used to specify concentration. This is purely for human readout purposes, and won't affect calculations. If you give a non-zero length, this will be ignored, and units of ng/uL will be assumed (and converted into nM).\n",
    "\n",
    "The second 'association' spreadsheet (describing the what materials go together) is also a CSV-format spreadsheet. This spreadsheet determines what goes into the destination well. One column of the association spreadsheet determines that row's well on the destination plate. The EchoRun object will scan through every column, ignoring the well column, taking pairs of columns from left to right. There can be any number of pairs of columns; each one will cause one material to be moved from the source plate to the destination plate. The first clumn in each pair holds the name of a material. This name must exactly match one of the material names listed in the source spreadsheet, and determines where material will be taken from. The second column in each pair describes the *final* concentration of that material. If the material is dsDNA (has non-zero length), the units of final concentration are assumed to be nM. Otherwise, the units of final concentration are the same as the units of concentration used for that material in the source plate.\n",
    "\n",
    "Note that unlike the other two experimental settings of EchoRun, `build_picklist_from_association_spreadsheet` does *not* require that its EchoRun object be associated with a source plate file or SourcePlate object prior to the function being called -- a new SourcePlate object will be manufactured from the input spreadsheet when you call `load_source_plate`. "
   ]
  },
  {
   "cell_type": "markdown",
   "metadata": {},
   "source": [
    "# Tweaking Settings"
   ]
  },
  {
   "cell_type": "markdown",
   "metadata": {},
   "source": [
    "#### To change the reaction volume:\n",
    "\n",
    "By default, the Echo package assumes that you want to make 10 uL reactions. If you want to use a different volume, you'll need to change this in your `EchoRun` object. *Note that the `EchoRun`'s reaction volume has units of nanoliters!*"
   ]
  },
  {
   "cell_type": "code",
   "execution_count": 68,
   "metadata": {
    "collapsed": true
   },
   "outputs": [],
   "source": [
    "# You can set reaction volume in the EchoRun's constructor...\n",
    "example_echo_calculator = mt_echo.EchoRun(rxn_vol = 20000) \n",
    "#... or dynamically.\n",
    "example_echo_calculator.rxn_vol = 10.5 * 1e3 # Volume IN nL!!!"
   ]
  },
  {
   "cell_type": "markdown",
   "metadata": {},
   "source": [
    "Make sure to change the `EchoRun`'s reaction volume *before* running `build_picklist_from_association_spreadsheet` or `build_dilution_series`. You almost certainly shouldn't do this at all when using `build_picklist_from_txtl_setup_csvs`, because that function will automatically extract a reaction volume from the setup spreadsheet."
   ]
  },
  {
   "cell_type": "markdown",
   "metadata": {},
   "source": [
    "If you use a `MixtureMaterial` or `TXTLMasterMix`, you should also set that object's reaction volume, in the same way as the `EchoRun`. If you try to use a mixture with an `EchoRun` with a different reaction volume, the `EchoRun`'s reaction volume will take precedence, and you will get a warning:"
   ]
  },
  {
   "cell_type": "code",
   "execution_count": 69,
   "metadata": {
    "collapsed": false
   },
   "outputs": [],
   "source": [
    "my_mixture = mt_echo.MixtureMaterial(\"Master Mix\", rxn_vol = 15000)\n",
    "example_echo_calculator.add_material_to_well(my_mixture, \"A1\", 0.5)"
   ]
  },
  {
   "cell_type": "markdown",
   "metadata": {},
   "source": [
    "#### To change the master mix composition/extract fraction:\n",
    "\n",
    "This is really only relevant for manual experimental setups -- TX-TL setup from a spreadsheet pulls the extract fraction from the spreadsheet, and the association spreadsheet method has no knowledge of TX-TL. \n",
    "\n",
    "When you construct an `EchoRun` object, you pass it a `TXTLMasterMix` object (or `None`). To change the extract fraction of an experiment, do this in the constructor of that `TXTLMasterMix` object. "
   ]
  },
  {
   "cell_type": "code",
   "execution_count": 70,
   "metadata": {
    "collapsed": false
   },
   "outputs": [],
   "source": [
    "example_echo_calculator = mt_echo.EchoRun()\n",
    "new_master_mix = mt_echo.TXTLMasterMix(extract_fraction = 0.40, \n",
    "                                       rxn_vol = example_echo_calculator.rxn_vol)\n",
    "example_echo_calculator.dilution_series(gfp, atc, gfp_final_concentrations,\n",
    "                                        atc_final_concentrations, \"A1\")\n",
    "example_echo_calculator.add_material_to_all(new_master_mix)"
   ]
  },
  {
   "cell_type": "markdown",
   "metadata": {},
   "source": [
    "You can also add arbitrary components to the master mix. For example, the following code ads the dye DFHBI-1T to every well at a final concentration of 10 µM, from a 2 mM stock:"
   ]
  },
  {
   "cell_type": "code",
   "execution_count": 71,
   "metadata": {
    "collapsed": false
   },
   "outputs": [],
   "source": [
    "example_plate = mt_echo.SourcePlate(os.path.join(\"tweaking\", \"example.dat\"))\n",
    "example_echo_calculator = mt_echo.EchoRun(plate = example_plate)\n",
    "new_master_mix = mt_echo.TXTLMasterMix(rxn_vol = example_echo_calculator.rxn_vol)\n",
    "dfhbi = mt_echo.EchoSourceMaterial(\"DFHBI-1T\", 2000)\n",
    "new_master_mix.add_material(dfhbi, 10)\n",
    "example_echo_calculator.dilution_series(gfp, atc, gfp_final_concentrations,\n",
    "                                              atc_final_concentrations, \"A1\")\n",
    "example_echo_calculator.add_material_to_all(new_master_mix)"
   ]
  },
  {
   "cell_type": "markdown",
   "metadata": {},
   "source": [
    "**To change buffer/extract aliquot size:**\n",
    "\n",
    "Buffer and extract aliquot size are controlled by the `TXTLMasterMix` object. Like extract percentage, aliquot sizes can be changed in the `TXTLMasterMix`'s constructor.\n",
    "\n",
    "Note that both aliquot sizes are in units of nL, not uL."
   ]
  },
  {
   "cell_type": "code",
   "execution_count": 72,
   "metadata": {
    "collapsed": false
   },
   "outputs": [],
   "source": [
    "example_echo_calculator = mt_echo.EchoRun(plate = example_plate)\n",
    "\n",
    "new_master_mix = mt_echo.TXTLMasterMix(extract_per_aliquot = 50000,\n",
    "                                       buffer_per_aliquot = 70000,\n",
    "                                       rxn_vol = example_echo_calculator.rxn_vol)\n",
    "example_echo_calculator.dilution_series(gfp, atc, gfp_final_concentrations,\n",
    "                                              atc_final_concentrations, \"A1\")\n",
    "example_echo_calculator.add_material_to_all(new_master_mix)\n",
    "# ...\n",
    "# calculator_with_odd_destination.write_picklist(...)\n",
    "#..."
   ]
  },
  {
   "cell_type": "markdown",
   "metadata": {},
   "source": [
    "#### To change the source plate type/material type:\n",
    "\n",
    "Source plate types and material types are set as optional arguments in the constructor of a SourcePlate object. The type and material of a source plate are both set by a string, which can be any string that the Echo Plate Reformat software will recognize."
   ]
  },
  {
   "cell_type": "code",
   "execution_count": 73,
   "metadata": {
    "collapsed": true
   },
   "outputs": [],
   "source": [
    "plate_type = \"384PP_AQ_BP\" # This is actually the default plate value\n",
    "retyped_example_plate = mt_echo.SourcePlate(filename = plate_file, SPtype = plate_type)\n",
    "another_example_echo_calculator = mt_echo.EchoRun(plate = retyped_example_plate)"
   ]
  },
  {
   "cell_type": "markdown",
   "metadata": {},
   "source": [
    "#### To change the source plate name:\n",
    "\n",
    "Source plate names are set much like source plate types with the argument `SPname`. In addition, as a shorthand, you can set `SPname` to be a number N, in which case the plate will be named `Source[N]`. "
   ]
  },
  {
   "cell_type": "code",
   "execution_count": 74,
   "metadata": {
    "collapsed": true
   },
   "outputs": [],
   "source": [
    "plate_name = \"FirstPlate\"\n",
    "renamed_example_plate = mt_echo.SourcePlate(filename = plate_file, SPname = plate_name)\n",
    "yet_another_example_echo_calculator = mt_echo.EchoRun(plate = renamed_example_plate)"
   ]
  },
  {
   "cell_type": "markdown",
   "metadata": {},
   "source": [
    "**To change the destination plate type:**\n",
    "\n",
    "Destination plate types are determined and stored directly in the EchoRun object. The destination plate type can be set by the optional argument `DPtype` in the constructor of an EchoRun object, or set manually any time before calling `write_picklist` on that EchoRun."
   ]
  },
  {
   "cell_type": "code",
   "execution_count": 75,
   "metadata": {
    "collapsed": true
   },
   "outputs": [],
   "source": [
    "calculator_with_odd_destination = mt_echo.EchoRun(plate = example_plate, DPtype = \"some_96_well_plate\")\n",
    "calculator_with_odd_destination.DPtype = \"Nunc_384_black_glassbottom\" # Just kidding!\n",
    "# ...\n",
    "# calculator_with_odd_destination.write_picklist(...)\n",
    "#..."
   ]
  },
  {
   "cell_type": "markdown",
   "metadata": {},
   "source": [
    "**To change dead volume and max volume**:\n",
    "\n",
    "You probably shouldn't do this. If you absolutely must squeeze every last bit of efficiency out of your source wells (or if you want to use a low-dead-volume plate), you can set the `dead_volume` and `max_volume` variables, which are static variables in the murraylab_tools.echo package. If you change them, also make sure to set the static variable `usable_volume`, which defines the volume of material in a well that can actually be used by the Echo (this is normally calculated from `dead_volume` and `max_volume` at package import). Also, you should do this before running any experimental protocol function."
   ]
  },
  {
   "cell_type": "code",
   "execution_count": 76,
   "metadata": {
    "collapsed": true
   },
   "outputs": [],
   "source": [
    "from murraylab_tools.echo.echo_functions import dead_volume, max_volume, usable_volume\n",
    "dead_volume   = 10000 # Volume in nL!\n",
    "max_volume    = 75000 # Volume in nL!\n",
    "usable_volume = max_volume - dead_volume # Don't forget to re-calculate this!"
   ]
  },
  {
   "cell_type": "code",
   "execution_count": null,
   "metadata": {
    "collapsed": true
   },
   "outputs": [],
   "source": []
  }
 ],
 "metadata": {
  "kernelspec": {
   "display_name": "Python 3",
   "language": "python",
   "name": "python3"
  },
  "language_info": {
   "codemirror_mode": {
    "name": "ipython",
    "version": 3
   },
   "file_extension": ".py",
   "mimetype": "text/x-python",
   "name": "python",
   "nbconvert_exporter": "python",
   "pygments_lexer": "ipython3",
   "version": "3.10.14"
  }
 },
 "nbformat": 4,
 "nbformat_minor": 1
}
